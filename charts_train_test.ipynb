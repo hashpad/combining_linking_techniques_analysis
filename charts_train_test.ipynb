{
 "cells": [
  {
   "cell_type": "code",
   "execution_count": 1,
   "metadata": {},
   "outputs": [
    {
     "name": "stdout",
     "output_type": "stream",
     "text": [
      "/local/users/unjde\n"
     ]
    }
   ],
   "source": [
    "from trainer import Trainer\n",
    "import constants\n",
    "\n",
    "\n",
    "import json\n",
    "from sklearn.preprocessing import LabelEncoder\n",
    "from sklearn.model_selection import train_test_split\n",
    "from sklearn.decomposition import PCA\n",
    "\n",
    "import numpy as np\n",
    "import seaborn as sns\n",
    "from sklearn.metrics import confusion_matrix\n",
    "import matplotlib.pyplot as plt\n"
   ]
  },
  {
   "cell_type": "code",
   "execution_count": 2,
   "metadata": {},
   "outputs": [],
   "source": [
    "\n",
    "embeddings = {}\n",
    "text_labels = []\n",
    "raw_text_labels_files = []\n",
    "\n",
    "for file_path in constants.file_paths:\n",
    "    with open(file_path + \"_embeddings_.json\", \"r\") as f:\n",
    "        embeddings_objects = json.load(f)\n",
    "        for emb_obj in embeddings_objects:\n",
    "            embeddings[emb_obj[\"hash\"]] = np.array(emb_obj[\"embeddings\"])\n",
    "\n",
    "    with open(file_path + \"_labeled_fewer_classes.json\", \"r\") as f:\n",
    "        text_labels_file = json.load(f)\n",
    "        raw_text_labels_files.append({'ds': file_path, 'raw': text_labels_file})\n",
    "        for text_hash, doc_info in text_labels_file.items():\n",
    "            labels_list = [label[\"system\"] for label in doc_info[\"label\"]]\n",
    "            text_labels.append((text_hash, labels_list))"
   ]
  },
  {
   "cell_type": "code",
   "execution_count": 3,
   "metadata": {},
   "outputs": [],
   "source": [
    "# Assuming your initial data processing steps\n",
    "filtered_embeddings = []\n",
    "filtered_text_labels = []\n",
    "doc_values_initial = []\n",
    "doc_values = []\n",
    "\n",
    "for item in raw_text_labels_files:\n",
    "    raw_data = item.get('raw', {})\n",
    "    for key, value in raw_data.items():\n",
    "        doc_value = value.get('doc')\n",
    "        if doc_value:\n",
    "            doc_values_initial.append(doc_value)\n",
    "\n",
    "for i, (sample_id, classes) in enumerate(text_labels):\n",
    "    if classes:\n",
    "        for label in classes:\n",
    "            filtered_embeddings.append(embeddings[sample_id])\n",
    "            filtered_text_labels.append(label)\n",
    "            doc_values.append(doc_values_initial[i])\n",
    "\n",
    "\n"
   ]
  },
  {
   "cell_type": "code",
   "execution_count": 4,
   "metadata": {},
   "outputs": [
    {
     "name": "stdout",
     "output_type": "stream",
     "text": [
      "Requirement already satisfied: top2vec in /local/users/unjde/analysis/.conda/lib/python3.11/site-packages (1.0.34)\n",
      "Requirement already satisfied: nltk in /local/users/unjde/analysis/.conda/lib/python3.11/site-packages (3.8.1)\n",
      "Requirement already satisfied: numpy>=1.20.0 in /local/users/unjde/analysis/.conda/lib/python3.11/site-packages (from top2vec) (1.26.3)\n",
      "Requirement already satisfied: pandas in /local/users/unjde/analysis/.conda/lib/python3.11/site-packages (from top2vec) (2.2.2)\n",
      "Requirement already satisfied: scikit-learn>=1.2.0 in /local/users/unjde/analysis/.conda/lib/python3.11/site-packages (from top2vec) (1.5.1)\n",
      "Requirement already satisfied: gensim>=4.0.0 in /local/users/unjde/analysis/.conda/lib/python3.11/site-packages (from top2vec) (4.3.3)\n",
      "Requirement already satisfied: umap-learn>=0.5.1 in /local/users/unjde/analysis/.conda/lib/python3.11/site-packages (from top2vec) (0.5.6)\n",
      "Requirement already satisfied: hdbscan>=0.8.27 in /local/users/unjde/analysis/.conda/lib/python3.11/site-packages (from top2vec) (0.8.37)\n",
      "Requirement already satisfied: wordcloud in /local/users/unjde/analysis/.conda/lib/python3.11/site-packages (from top2vec) (1.9.3)\n",
      "Requirement already satisfied: click in /local/users/unjde/analysis/.conda/lib/python3.11/site-packages (from nltk) (8.1.7)\n",
      "Requirement already satisfied: joblib in /local/users/unjde/analysis/.conda/lib/python3.11/site-packages (from nltk) (1.4.2)\n",
      "Requirement already satisfied: regex>=2021.8.3 in /local/users/unjde/analysis/.conda/lib/python3.11/site-packages (from nltk) (2024.5.15)\n",
      "Requirement already satisfied: tqdm in /local/users/unjde/analysis/.conda/lib/python3.11/site-packages (from nltk) (4.66.4)\n",
      "Requirement already satisfied: scipy<1.14.0,>=1.7.0 in /local/users/unjde/analysis/.conda/lib/python3.11/site-packages (from gensim>=4.0.0->top2vec) (1.13.1)\n",
      "Requirement already satisfied: smart-open>=1.8.1 in /local/users/unjde/analysis/.conda/lib/python3.11/site-packages (from gensim>=4.0.0->top2vec) (7.0.4)\n",
      "Requirement already satisfied: cython<3,>=0.27 in /local/users/unjde/analysis/.conda/lib/python3.11/site-packages (from hdbscan>=0.8.27->top2vec) (0.29.37)\n",
      "Requirement already satisfied: threadpoolctl>=3.1.0 in /local/users/unjde/analysis/.conda/lib/python3.11/site-packages (from scikit-learn>=1.2.0->top2vec) (3.5.0)\n",
      "Requirement already satisfied: numba>=0.51.2 in /local/users/unjde/analysis/.conda/lib/python3.11/site-packages (from umap-learn>=0.5.1->top2vec) (0.60.0)\n",
      "Requirement already satisfied: pynndescent>=0.5 in /local/users/unjde/analysis/.conda/lib/python3.11/site-packages (from umap-learn>=0.5.1->top2vec) (0.5.13)\n",
      "Requirement already satisfied: python-dateutil>=2.8.2 in /local/users/unjde/analysis/.conda/lib/python3.11/site-packages (from pandas->top2vec) (2.9.0)\n",
      "Requirement already satisfied: pytz>=2020.1 in /local/users/unjde/analysis/.conda/lib/python3.11/site-packages (from pandas->top2vec) (2024.1)\n",
      "Requirement already satisfied: tzdata>=2022.7 in /local/users/unjde/analysis/.conda/lib/python3.11/site-packages (from pandas->top2vec) (2024.1)\n",
      "Requirement already satisfied: pillow in /local/users/unjde/analysis/.conda/lib/python3.11/site-packages (from wordcloud->top2vec) (10.2.0)\n",
      "Requirement already satisfied: matplotlib in /local/users/unjde/analysis/.conda/lib/python3.11/site-packages (from wordcloud->top2vec) (3.9.1)\n",
      "Requirement already satisfied: llvmlite<0.44,>=0.43.0dev0 in /local/users/unjde/analysis/.conda/lib/python3.11/site-packages (from numba>=0.51.2->umap-learn>=0.5.1->top2vec) (0.43.0)\n",
      "Requirement already satisfied: six>=1.5 in /local/users/unjde/analysis/.conda/lib/python3.11/site-packages (from python-dateutil>=2.8.2->pandas->top2vec) (1.16.0)\n",
      "Requirement already satisfied: wrapt in /local/users/unjde/analysis/.conda/lib/python3.11/site-packages (from smart-open>=1.8.1->gensim>=4.0.0->top2vec) (1.16.0)\n",
      "Requirement already satisfied: contourpy>=1.0.1 in /local/users/unjde/analysis/.conda/lib/python3.11/site-packages (from matplotlib->wordcloud->top2vec) (1.2.1)\n",
      "Requirement already satisfied: cycler>=0.10 in /local/users/unjde/analysis/.conda/lib/python3.11/site-packages (from matplotlib->wordcloud->top2vec) (0.12.1)\n",
      "Requirement already satisfied: fonttools>=4.22.0 in /local/users/unjde/analysis/.conda/lib/python3.11/site-packages (from matplotlib->wordcloud->top2vec) (4.53.1)\n",
      "Requirement already satisfied: kiwisolver>=1.3.1 in /local/users/unjde/analysis/.conda/lib/python3.11/site-packages (from matplotlib->wordcloud->top2vec) (1.4.5)\n",
      "Requirement already satisfied: packaging>=20.0 in /local/users/unjde/analysis/.conda/lib/python3.11/site-packages (from matplotlib->wordcloud->top2vec) (24.1)\n",
      "Requirement already satisfied: pyparsing>=2.3.1 in /local/users/unjde/analysis/.conda/lib/python3.11/site-packages (from matplotlib->wordcloud->top2vec) (3.1.2)\n",
      "Note: you may need to restart the kernel to use updated packages.\n",
      "Requirement already satisfied: top2vec[sentence_encoders] in /local/users/unjde/analysis/.conda/lib/python3.11/site-packages (1.0.34)\n",
      "Requirement already satisfied: numpy>=1.20.0 in /local/users/unjde/analysis/.conda/lib/python3.11/site-packages (from top2vec[sentence_encoders]) (1.26.3)\n",
      "Requirement already satisfied: pandas in /local/users/unjde/analysis/.conda/lib/python3.11/site-packages (from top2vec[sentence_encoders]) (2.2.2)\n",
      "Requirement already satisfied: scikit-learn>=1.2.0 in /local/users/unjde/analysis/.conda/lib/python3.11/site-packages (from top2vec[sentence_encoders]) (1.5.1)\n",
      "Requirement already satisfied: gensim>=4.0.0 in /local/users/unjde/analysis/.conda/lib/python3.11/site-packages (from top2vec[sentence_encoders]) (4.3.3)\n",
      "Requirement already satisfied: umap-learn>=0.5.1 in /local/users/unjde/analysis/.conda/lib/python3.11/site-packages (from top2vec[sentence_encoders]) (0.5.6)\n",
      "Requirement already satisfied: hdbscan>=0.8.27 in /local/users/unjde/analysis/.conda/lib/python3.11/site-packages (from top2vec[sentence_encoders]) (0.8.37)\n",
      "Requirement already satisfied: wordcloud in /local/users/unjde/analysis/.conda/lib/python3.11/site-packages (from top2vec[sentence_encoders]) (1.9.3)\n",
      "Requirement already satisfied: tensorflow in /local/users/unjde/analysis/.conda/lib/python3.11/site-packages (from top2vec[sentence_encoders]) (2.17.0)\n",
      "Requirement already satisfied: tensorflow-hub in /local/users/unjde/analysis/.conda/lib/python3.11/site-packages (from top2vec[sentence_encoders]) (0.16.1)\n",
      "Requirement already satisfied: tensorflow-text in /local/users/unjde/analysis/.conda/lib/python3.11/site-packages (from top2vec[sentence_encoders]) (2.17.0)\n",
      "Requirement already satisfied: scipy<1.14.0,>=1.7.0 in /local/users/unjde/analysis/.conda/lib/python3.11/site-packages (from gensim>=4.0.0->top2vec[sentence_encoders]) (1.13.1)\n",
      "Requirement already satisfied: smart-open>=1.8.1 in /local/users/unjde/analysis/.conda/lib/python3.11/site-packages (from gensim>=4.0.0->top2vec[sentence_encoders]) (7.0.4)\n",
      "Requirement already satisfied: cython<3,>=0.27 in /local/users/unjde/analysis/.conda/lib/python3.11/site-packages (from hdbscan>=0.8.27->top2vec[sentence_encoders]) (0.29.37)\n",
      "Requirement already satisfied: joblib>=1.0 in /local/users/unjde/analysis/.conda/lib/python3.11/site-packages (from hdbscan>=0.8.27->top2vec[sentence_encoders]) (1.4.2)\n",
      "Requirement already satisfied: threadpoolctl>=3.1.0 in /local/users/unjde/analysis/.conda/lib/python3.11/site-packages (from scikit-learn>=1.2.0->top2vec[sentence_encoders]) (3.5.0)\n",
      "Requirement already satisfied: numba>=0.51.2 in /local/users/unjde/analysis/.conda/lib/python3.11/site-packages (from umap-learn>=0.5.1->top2vec[sentence_encoders]) (0.60.0)\n",
      "Requirement already satisfied: pynndescent>=0.5 in /local/users/unjde/analysis/.conda/lib/python3.11/site-packages (from umap-learn>=0.5.1->top2vec[sentence_encoders]) (0.5.13)\n",
      "Requirement already satisfied: tqdm in /local/users/unjde/analysis/.conda/lib/python3.11/site-packages (from umap-learn>=0.5.1->top2vec[sentence_encoders]) (4.66.4)\n",
      "Requirement already satisfied: python-dateutil>=2.8.2 in /local/users/unjde/analysis/.conda/lib/python3.11/site-packages (from pandas->top2vec[sentence_encoders]) (2.9.0)\n",
      "Requirement already satisfied: pytz>=2020.1 in /local/users/unjde/analysis/.conda/lib/python3.11/site-packages (from pandas->top2vec[sentence_encoders]) (2024.1)\n",
      "Requirement already satisfied: tzdata>=2022.7 in /local/users/unjde/analysis/.conda/lib/python3.11/site-packages (from pandas->top2vec[sentence_encoders]) (2024.1)\n",
      "Requirement already satisfied: absl-py>=1.0.0 in /local/users/unjde/analysis/.conda/lib/python3.11/site-packages (from tensorflow->top2vec[sentence_encoders]) (2.1.0)\n",
      "Requirement already satisfied: astunparse>=1.6.0 in /local/users/unjde/analysis/.conda/lib/python3.11/site-packages (from tensorflow->top2vec[sentence_encoders]) (1.6.3)\n",
      "Requirement already satisfied: flatbuffers>=24.3.25 in /local/users/unjde/analysis/.conda/lib/python3.11/site-packages (from tensorflow->top2vec[sentence_encoders]) (24.3.25)\n",
      "Requirement already satisfied: gast!=0.5.0,!=0.5.1,!=0.5.2,>=0.2.1 in /local/users/unjde/analysis/.conda/lib/python3.11/site-packages (from tensorflow->top2vec[sentence_encoders]) (0.6.0)\n",
      "Requirement already satisfied: google-pasta>=0.1.1 in /local/users/unjde/analysis/.conda/lib/python3.11/site-packages (from tensorflow->top2vec[sentence_encoders]) (0.2.0)\n",
      "Requirement already satisfied: h5py>=3.10.0 in /local/users/unjde/analysis/.conda/lib/python3.11/site-packages (from tensorflow->top2vec[sentence_encoders]) (3.11.0)\n",
      "Requirement already satisfied: libclang>=13.0.0 in /local/users/unjde/analysis/.conda/lib/python3.11/site-packages (from tensorflow->top2vec[sentence_encoders]) (18.1.1)\n",
      "Requirement already satisfied: ml-dtypes<0.5.0,>=0.3.1 in /local/users/unjde/analysis/.conda/lib/python3.11/site-packages (from tensorflow->top2vec[sentence_encoders]) (0.4.0)\n",
      "Requirement already satisfied: opt-einsum>=2.3.2 in /local/users/unjde/analysis/.conda/lib/python3.11/site-packages (from tensorflow->top2vec[sentence_encoders]) (3.3.0)\n",
      "Requirement already satisfied: packaging in /local/users/unjde/analysis/.conda/lib/python3.11/site-packages (from tensorflow->top2vec[sentence_encoders]) (24.1)\n",
      "Requirement already satisfied: protobuf!=4.21.0,!=4.21.1,!=4.21.2,!=4.21.3,!=4.21.4,!=4.21.5,<5.0.0dev,>=3.20.3 in /local/users/unjde/analysis/.conda/lib/python3.11/site-packages (from tensorflow->top2vec[sentence_encoders]) (4.25.4)\n",
      "Requirement already satisfied: requests<3,>=2.21.0 in /local/users/unjde/analysis/.conda/lib/python3.11/site-packages (from tensorflow->top2vec[sentence_encoders]) (2.32.3)\n",
      "Requirement already satisfied: setuptools in /local/users/unjde/analysis/.conda/lib/python3.11/site-packages (from tensorflow->top2vec[sentence_encoders]) (69.5.1)\n",
      "Requirement already satisfied: six>=1.12.0 in /local/users/unjde/analysis/.conda/lib/python3.11/site-packages (from tensorflow->top2vec[sentence_encoders]) (1.16.0)\n",
      "Requirement already satisfied: termcolor>=1.1.0 in /local/users/unjde/analysis/.conda/lib/python3.11/site-packages (from tensorflow->top2vec[sentence_encoders]) (2.4.0)\n",
      "Requirement already satisfied: typing-extensions>=3.6.6 in /local/users/unjde/analysis/.conda/lib/python3.11/site-packages (from tensorflow->top2vec[sentence_encoders]) (4.12.2)\n",
      "Requirement already satisfied: wrapt>=1.11.0 in /local/users/unjde/analysis/.conda/lib/python3.11/site-packages (from tensorflow->top2vec[sentence_encoders]) (1.16.0)\n",
      "Requirement already satisfied: grpcio<2.0,>=1.24.3 in /local/users/unjde/analysis/.conda/lib/python3.11/site-packages (from tensorflow->top2vec[sentence_encoders]) (1.65.1)\n",
      "Requirement already satisfied: tensorboard<2.18,>=2.17 in /local/users/unjde/analysis/.conda/lib/python3.11/site-packages (from tensorflow->top2vec[sentence_encoders]) (2.17.0)\n",
      "Requirement already satisfied: keras>=3.2.0 in /local/users/unjde/analysis/.conda/lib/python3.11/site-packages (from tensorflow->top2vec[sentence_encoders]) (3.4.1)\n",
      "Requirement already satisfied: tensorflow-io-gcs-filesystem>=0.23.1 in /local/users/unjde/analysis/.conda/lib/python3.11/site-packages (from tensorflow->top2vec[sentence_encoders]) (0.37.1)\n",
      "Requirement already satisfied: tf-keras>=2.14.1 in /local/users/unjde/analysis/.conda/lib/python3.11/site-packages (from tensorflow-hub->top2vec[sentence_encoders]) (2.17.0)\n",
      "Requirement already satisfied: pillow in /local/users/unjde/analysis/.conda/lib/python3.11/site-packages (from wordcloud->top2vec[sentence_encoders]) (10.2.0)\n",
      "Requirement already satisfied: matplotlib in /local/users/unjde/analysis/.conda/lib/python3.11/site-packages (from wordcloud->top2vec[sentence_encoders]) (3.9.1)\n",
      "Requirement already satisfied: wheel<1.0,>=0.23.0 in /local/users/unjde/analysis/.conda/lib/python3.11/site-packages (from astunparse>=1.6.0->tensorflow->top2vec[sentence_encoders]) (0.43.0)\n",
      "Requirement already satisfied: rich in /local/users/unjde/analysis/.conda/lib/python3.11/site-packages (from keras>=3.2.0->tensorflow->top2vec[sentence_encoders]) (13.7.1)\n",
      "Requirement already satisfied: namex in /local/users/unjde/analysis/.conda/lib/python3.11/site-packages (from keras>=3.2.0->tensorflow->top2vec[sentence_encoders]) (0.0.8)\n",
      "Requirement already satisfied: optree in /local/users/unjde/analysis/.conda/lib/python3.11/site-packages (from keras>=3.2.0->tensorflow->top2vec[sentence_encoders]) (0.12.1)\n",
      "Requirement already satisfied: llvmlite<0.44,>=0.43.0dev0 in /local/users/unjde/analysis/.conda/lib/python3.11/site-packages (from numba>=0.51.2->umap-learn>=0.5.1->top2vec[sentence_encoders]) (0.43.0)\n",
      "Requirement already satisfied: charset-normalizer<4,>=2 in /local/users/unjde/analysis/.conda/lib/python3.11/site-packages (from requests<3,>=2.21.0->tensorflow->top2vec[sentence_encoders]) (3.3.2)\n",
      "Requirement already satisfied: idna<4,>=2.5 in /local/users/unjde/analysis/.conda/lib/python3.11/site-packages (from requests<3,>=2.21.0->tensorflow->top2vec[sentence_encoders]) (3.7)\n",
      "Requirement already satisfied: urllib3<3,>=1.21.1 in /local/users/unjde/analysis/.conda/lib/python3.11/site-packages (from requests<3,>=2.21.0->tensorflow->top2vec[sentence_encoders]) (2.2.2)\n",
      "Requirement already satisfied: certifi>=2017.4.17 in /local/users/unjde/analysis/.conda/lib/python3.11/site-packages (from requests<3,>=2.21.0->tensorflow->top2vec[sentence_encoders]) (2024.7.4)\n",
      "Requirement already satisfied: markdown>=2.6.8 in /local/users/unjde/analysis/.conda/lib/python3.11/site-packages (from tensorboard<2.18,>=2.17->tensorflow->top2vec[sentence_encoders]) (3.6)\n",
      "Requirement already satisfied: tensorboard-data-server<0.8.0,>=0.7.0 in /local/users/unjde/analysis/.conda/lib/python3.11/site-packages (from tensorboard<2.18,>=2.17->tensorflow->top2vec[sentence_encoders]) (0.7.2)\n",
      "Requirement already satisfied: werkzeug>=1.0.1 in /local/users/unjde/analysis/.conda/lib/python3.11/site-packages (from tensorboard<2.18,>=2.17->tensorflow->top2vec[sentence_encoders]) (3.0.3)\n",
      "Requirement already satisfied: contourpy>=1.0.1 in /local/users/unjde/analysis/.conda/lib/python3.11/site-packages (from matplotlib->wordcloud->top2vec[sentence_encoders]) (1.2.1)\n",
      "Requirement already satisfied: cycler>=0.10 in /local/users/unjde/analysis/.conda/lib/python3.11/site-packages (from matplotlib->wordcloud->top2vec[sentence_encoders]) (0.12.1)\n",
      "Requirement already satisfied: fonttools>=4.22.0 in /local/users/unjde/analysis/.conda/lib/python3.11/site-packages (from matplotlib->wordcloud->top2vec[sentence_encoders]) (4.53.1)\n",
      "Requirement already satisfied: kiwisolver>=1.3.1 in /local/users/unjde/analysis/.conda/lib/python3.11/site-packages (from matplotlib->wordcloud->top2vec[sentence_encoders]) (1.4.5)\n",
      "Requirement already satisfied: pyparsing>=2.3.1 in /local/users/unjde/analysis/.conda/lib/python3.11/site-packages (from matplotlib->wordcloud->top2vec[sentence_encoders]) (3.1.2)\n",
      "Requirement already satisfied: MarkupSafe>=2.1.1 in /local/users/unjde/analysis/.conda/lib/python3.11/site-packages (from werkzeug>=1.0.1->tensorboard<2.18,>=2.17->tensorflow->top2vec[sentence_encoders]) (2.1.5)\n",
      "Requirement already satisfied: markdown-it-py>=2.2.0 in /local/users/unjde/analysis/.conda/lib/python3.11/site-packages (from rich->keras>=3.2.0->tensorflow->top2vec[sentence_encoders]) (3.0.0)\n",
      "Requirement already satisfied: pygments<3.0.0,>=2.13.0 in /local/users/unjde/analysis/.conda/lib/python3.11/site-packages (from rich->keras>=3.2.0->tensorflow->top2vec[sentence_encoders]) (2.18.0)\n",
      "Requirement already satisfied: mdurl~=0.1 in /local/users/unjde/analysis/.conda/lib/python3.11/site-packages (from markdown-it-py>=2.2.0->rich->keras>=3.2.0->tensorflow->top2vec[sentence_encoders]) (0.1.2)\n",
      "Note: you may need to restart the kernel to use updated packages.\n"
     ]
    }
   ],
   "source": [
    "%pip install top2vec nltk\n",
    "%pip install top2vec[sentence_encoders]"
   ]
  },
  {
   "cell_type": "code",
   "execution_count": 5,
   "metadata": {},
   "outputs": [
    {
     "name": "stderr",
     "output_type": "stream",
     "text": [
      "2024-10-01 10:25:17.495940: I tensorflow/core/util/port.cc:153] oneDNN custom operations are on. You may see slightly different numerical results due to floating-point round-off errors from different computation orders. To turn them off, set the environment variable `TF_ENABLE_ONEDNN_OPTS=0`.\n",
      "2024-10-01 10:25:17.509466: E external/local_xla/xla/stream_executor/cuda/cuda_fft.cc:485] Unable to register cuFFT factory: Attempting to register factory for plugin cuFFT when one has already been registered\n",
      "2024-10-01 10:25:17.525091: E external/local_xla/xla/stream_executor/cuda/cuda_dnn.cc:8454] Unable to register cuDNN factory: Attempting to register factory for plugin cuDNN when one has already been registered\n",
      "2024-10-01 10:25:17.529762: E external/local_xla/xla/stream_executor/cuda/cuda_blas.cc:1452] Unable to register cuBLAS factory: Attempting to register factory for plugin cuBLAS when one has already been registered\n",
      "2024-10-01 10:25:17.541433: I tensorflow/core/platform/cpu_feature_guard.cc:210] This TensorFlow binary is optimized to use available CPU instructions in performance-critical operations.\n",
      "To enable the following instructions: AVX2 AVX512F AVX512_VNNI FMA, in other operations, rebuild TensorFlow with the appropriate compiler flags.\n",
      "2024-10-01 10:25:18.451694: W tensorflow/compiler/tf2tensorrt/utils/py_utils.cc:38] TF-TRT Warning: Could not find TensorRT\n"
     ]
    }
   ],
   "source": [
    "from top2vec import Top2Vec"
   ]
  },
  {
   "cell_type": "code",
   "execution_count": 6,
   "metadata": {},
   "outputs": [],
   "source": [
    "model_path = 'model/topic2vec'\n",
    "\n",
    "topic_model = Top2Vec.load(model_path)\n",
    "topic_model.save(model_path)"
   ]
  },
  {
   "cell_type": "code",
   "execution_count": 7,
   "metadata": {},
   "outputs": [
    {
     "data": {
      "text/plain": [
       "35"
      ]
     },
     "execution_count": 7,
     "metadata": {},
     "output_type": "execute_result"
    }
   ],
   "source": [
    "topic_model.get_num_topics()"
   ]
  },
  {
   "cell_type": "code",
   "execution_count": 8,
   "metadata": {},
   "outputs": [],
   "source": [
    "topic_words, word_scores, topic_nums = topic_model.get_topics(35)"
   ]
  },
  {
   "cell_type": "code",
   "execution_count": 9,
   "metadata": {},
   "outputs": [],
   "source": [
    "document_topics, scores, words, topic_word_emb = topic_model.get_documents_topics(doc_ids=list(range(len(doc_values))))"
   ]
  },
  {
   "cell_type": "code",
   "execution_count": 10,
   "metadata": {},
   "outputs": [],
   "source": [
    "from sklearn.preprocessing import OneHotEncoder\n",
    "\n",
    "one_hot_encoder = OneHotEncoder()\n",
    "document_topics_one_hot = one_hot_encoder.fit_transform(np.reshape(document_topics, (-1,1)))"
   ]
  },
  {
   "cell_type": "code",
   "execution_count": null,
   "metadata": {},
   "outputs": [],
   "source": []
  }
 ],
 "metadata": {
  "kernelspec": {
   "display_name": "Python 3",
   "language": "python",
   "name": "python3"
  },
  "language_info": {
   "codemirror_mode": {
    "name": "ipython",
    "version": 3
   },
   "file_extension": ".py",
   "mimetype": "text/x-python",
   "name": "python",
   "nbconvert_exporter": "python",
   "pygments_lexer": "ipython3",
   "version": "3.11.9"
  }
 },
 "nbformat": 4,
 "nbformat_minor": 2
}
